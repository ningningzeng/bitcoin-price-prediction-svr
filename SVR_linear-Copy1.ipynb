{
 "cells": [
  {
   "cell_type": "code",
   "execution_count": 1,
   "id": "8e18903b",
   "metadata": {},
   "outputs": [],
   "source": [
    "\n",
    "import json\n",
    "import requests\n",
    "\n",
    "import matplotlib.pyplot as plt\n",
    "import numpy as np\n",
    "import pandas as pd\n",
    "\n",
    "from sklearn.metrics import mean_squared_error"
   ]
  },
  {
   "cell_type": "code",
   "execution_count": 2,
   "id": "d10f22ca",
   "metadata": {},
   "outputs": [],
   "source": [
    "\n",
    "endpoint = 'https://min-api.cryptocompare.com/data/histoday'\n",
    "res = requests.get(endpoint + '?fsym=BTC&tsym=USD&limit=2000')\n",
    "hist = pd.DataFrame(json.loads(res.content)['Data'])\n",
    "hist = hist.set_index('time')\n",
    "hist.index = pd.to_datetime(hist.index, unit='s')\n",
    "target_col = 'close'"
   ]
  },
  {
   "cell_type": "code",
   "execution_count": 3,
   "id": "34cd54a4",
   "metadata": {},
   "outputs": [
    {
     "data": {
      "text/html": [
       "<div>\n",
       "<style scoped>\n",
       "    .dataframe tbody tr th:only-of-type {\n",
       "        vertical-align: middle;\n",
       "    }\n",
       "\n",
       "    .dataframe tbody tr th {\n",
       "        vertical-align: top;\n",
       "    }\n",
       "\n",
       "    .dataframe thead th {\n",
       "        text-align: right;\n",
       "    }\n",
       "</style>\n",
       "<table border=\"1\" class=\"dataframe\">\n",
       "  <thead>\n",
       "    <tr style=\"text-align: right;\">\n",
       "      <th></th>\n",
       "      <th>high</th>\n",
       "      <th>low</th>\n",
       "      <th>open</th>\n",
       "      <th>volumefrom</th>\n",
       "      <th>volumeto</th>\n",
       "      <th>close</th>\n",
       "      <th>conversionType</th>\n",
       "      <th>conversionSymbol</th>\n",
       "    </tr>\n",
       "    <tr>\n",
       "      <th>time</th>\n",
       "      <th></th>\n",
       "      <th></th>\n",
       "      <th></th>\n",
       "      <th></th>\n",
       "      <th></th>\n",
       "      <th></th>\n",
       "      <th></th>\n",
       "      <th></th>\n",
       "    </tr>\n",
       "  </thead>\n",
       "  <tbody>\n",
       "    <tr>\n",
       "      <th>2016-04-11</th>\n",
       "      <td>422.35</td>\n",
       "      <td>418.11</td>\n",
       "      <td>420.25</td>\n",
       "      <td>36387.29</td>\n",
       "      <td>15374195.04</td>\n",
       "      <td>421.43</td>\n",
       "      <td>direct</td>\n",
       "      <td></td>\n",
       "    </tr>\n",
       "    <tr>\n",
       "      <th>2016-04-12</th>\n",
       "      <td>426.69</td>\n",
       "      <td>420.70</td>\n",
       "      <td>421.43</td>\n",
       "      <td>57711.94</td>\n",
       "      <td>24580503.64</td>\n",
       "      <td>424.74</td>\n",
       "      <td>direct</td>\n",
       "      <td></td>\n",
       "    </tr>\n",
       "    <tr>\n",
       "      <th>2016-04-13</th>\n",
       "      <td>426.58</td>\n",
       "      <td>421.41</td>\n",
       "      <td>424.74</td>\n",
       "      <td>38088.60</td>\n",
       "      <td>16183793.93</td>\n",
       "      <td>423.47</td>\n",
       "      <td>direct</td>\n",
       "      <td></td>\n",
       "    </tr>\n",
       "    <tr>\n",
       "      <th>2016-04-14</th>\n",
       "      <td>425.44</td>\n",
       "      <td>421.84</td>\n",
       "      <td>423.47</td>\n",
       "      <td>30664.40</td>\n",
       "      <td>13038970.54</td>\n",
       "      <td>424.02</td>\n",
       "      <td>direct</td>\n",
       "      <td></td>\n",
       "    </tr>\n",
       "    <tr>\n",
       "      <th>2016-04-15</th>\n",
       "      <td>429.49</td>\n",
       "      <td>423.25</td>\n",
       "      <td>424.02</td>\n",
       "      <td>54119.98</td>\n",
       "      <td>23214560.10</td>\n",
       "      <td>428.67</td>\n",
       "      <td>direct</td>\n",
       "      <td></td>\n",
       "    </tr>\n",
       "  </tbody>\n",
       "</table>\n",
       "</div>"
      ],
      "text/plain": [
       "              high     low    open  volumefrom     volumeto   close  \\\n",
       "time                                                                  \n",
       "2016-04-11  422.35  418.11  420.25    36387.29  15374195.04  421.43   \n",
       "2016-04-12  426.69  420.70  421.43    57711.94  24580503.64  424.74   \n",
       "2016-04-13  426.58  421.41  424.74    38088.60  16183793.93  423.47   \n",
       "2016-04-14  425.44  421.84  423.47    30664.40  13038970.54  424.02   \n",
       "2016-04-15  429.49  423.25  424.02    54119.98  23214560.10  428.67   \n",
       "\n",
       "           conversionType conversionSymbol  \n",
       "time                                        \n",
       "2016-04-11         direct                   \n",
       "2016-04-12         direct                   \n",
       "2016-04-13         direct                   \n",
       "2016-04-14         direct                   \n",
       "2016-04-15         direct                   "
      ]
     },
     "execution_count": 3,
     "metadata": {},
     "output_type": "execute_result"
    }
   ],
   "source": [
    "hist.head()"
   ]
  },
  {
   "cell_type": "code",
   "execution_count": 4,
   "id": "1cc411d2",
   "metadata": {},
   "outputs": [],
   "source": [
    "import numpy as np\n",
    "import pandas as pd\n",
    "import matplotlib.pyplot as plt\n",
    "from sklearn.preprocessing import StandardScaler\n",
    "from sklearn.model_selection import train_test_split\n",
    "from sklearn.metrics import mean_absolute_error\n",
    "from sklearn.svm import SVR\n",
    "from sklearn.model_selection import GridSearchCV"
   ]
  },
  {
   "cell_type": "code",
   "execution_count": 5,
   "id": "54a465d6",
   "metadata": {},
   "outputs": [
    {
     "data": {
      "text/html": [
       "<div>\n",
       "<style scoped>\n",
       "    .dataframe tbody tr th:only-of-type {\n",
       "        vertical-align: middle;\n",
       "    }\n",
       "\n",
       "    .dataframe tbody tr th {\n",
       "        vertical-align: top;\n",
       "    }\n",
       "\n",
       "    .dataframe thead th {\n",
       "        text-align: right;\n",
       "    }\n",
       "</style>\n",
       "<table border=\"1\" class=\"dataframe\">\n",
       "  <thead>\n",
       "    <tr style=\"text-align: right;\">\n",
       "      <th></th>\n",
       "      <th>close</th>\n",
       "    </tr>\n",
       "    <tr>\n",
       "      <th>time</th>\n",
       "      <th></th>\n",
       "    </tr>\n",
       "  </thead>\n",
       "  <tbody>\n",
       "    <tr>\n",
       "      <th>2021-09-28</th>\n",
       "      <td>41056.79</td>\n",
       "    </tr>\n",
       "    <tr>\n",
       "      <th>2021-09-29</th>\n",
       "      <td>41539.43</td>\n",
       "    </tr>\n",
       "    <tr>\n",
       "      <th>2021-09-30</th>\n",
       "      <td>43829.34</td>\n",
       "    </tr>\n",
       "    <tr>\n",
       "      <th>2021-10-01</th>\n",
       "      <td>48164.35</td>\n",
       "    </tr>\n",
       "    <tr>\n",
       "      <th>2021-10-02</th>\n",
       "      <td>47799.23</td>\n",
       "    </tr>\n",
       "  </tbody>\n",
       "</table>\n",
       "</div>"
      ],
      "text/plain": [
       "               close\n",
       "time                \n",
       "2021-09-28  41056.79\n",
       "2021-09-29  41539.43\n",
       "2021-09-30  43829.34\n",
       "2021-10-01  48164.35\n",
       "2021-10-02  47799.23"
      ]
     },
     "execution_count": 5,
     "metadata": {},
     "output_type": "execute_result"
    }
   ],
   "source": [
    "df = pd.DataFrame(hist['close'])\n",
    "df.tail()"
   ]
  },
  {
   "cell_type": "code",
   "execution_count": 6,
   "id": "8a978e74",
   "metadata": {},
   "outputs": [
    {
     "data": {
      "text/html": [
       "<div>\n",
       "<style scoped>\n",
       "    .dataframe tbody tr th:only-of-type {\n",
       "        vertical-align: middle;\n",
       "    }\n",
       "\n",
       "    .dataframe tbody tr th {\n",
       "        vertical-align: top;\n",
       "    }\n",
       "\n",
       "    .dataframe thead th {\n",
       "        text-align: right;\n",
       "    }\n",
       "</style>\n",
       "<table border=\"1\" class=\"dataframe\">\n",
       "  <thead>\n",
       "    <tr style=\"text-align: right;\">\n",
       "      <th></th>\n",
       "      <th>close</th>\n",
       "      <th>Prediction</th>\n",
       "    </tr>\n",
       "    <tr>\n",
       "      <th>time</th>\n",
       "      <th></th>\n",
       "      <th></th>\n",
       "    </tr>\n",
       "  </thead>\n",
       "  <tbody>\n",
       "    <tr>\n",
       "      <th>2021-09-23</th>\n",
       "      <td>44893.87</td>\n",
       "      <td>41056.79</td>\n",
       "    </tr>\n",
       "    <tr>\n",
       "      <th>2021-09-24</th>\n",
       "      <td>42848.41</td>\n",
       "      <td>41539.43</td>\n",
       "    </tr>\n",
       "    <tr>\n",
       "      <th>2021-09-25</th>\n",
       "      <td>42721.91</td>\n",
       "      <td>43829.34</td>\n",
       "    </tr>\n",
       "    <tr>\n",
       "      <th>2021-09-26</th>\n",
       "      <td>43201.79</td>\n",
       "      <td>48164.35</td>\n",
       "    </tr>\n",
       "    <tr>\n",
       "      <th>2021-09-27</th>\n",
       "      <td>42187.51</td>\n",
       "      <td>47799.23</td>\n",
       "    </tr>\n",
       "    <tr>\n",
       "      <th>2021-09-28</th>\n",
       "      <td>41056.79</td>\n",
       "      <td>NaN</td>\n",
       "    </tr>\n",
       "    <tr>\n",
       "      <th>2021-09-29</th>\n",
       "      <td>41539.43</td>\n",
       "      <td>NaN</td>\n",
       "    </tr>\n",
       "    <tr>\n",
       "      <th>2021-09-30</th>\n",
       "      <td>43829.34</td>\n",
       "      <td>NaN</td>\n",
       "    </tr>\n",
       "    <tr>\n",
       "      <th>2021-10-01</th>\n",
       "      <td>48164.35</td>\n",
       "      <td>NaN</td>\n",
       "    </tr>\n",
       "    <tr>\n",
       "      <th>2021-10-02</th>\n",
       "      <td>47799.23</td>\n",
       "      <td>NaN</td>\n",
       "    </tr>\n",
       "  </tbody>\n",
       "</table>\n",
       "</div>"
      ],
      "text/plain": [
       "               close  Prediction\n",
       "time                            \n",
       "2021-09-23  44893.87    41056.79\n",
       "2021-09-24  42848.41    41539.43\n",
       "2021-09-25  42721.91    43829.34\n",
       "2021-09-26  43201.79    48164.35\n",
       "2021-09-27  42187.51    47799.23\n",
       "2021-09-28  41056.79         NaN\n",
       "2021-09-29  41539.43         NaN\n",
       "2021-09-30  43829.34         NaN\n",
       "2021-10-01  48164.35         NaN\n",
       "2021-10-02  47799.23         NaN"
      ]
     },
     "execution_count": 6,
     "metadata": {},
     "output_type": "execute_result"
    }
   ],
   "source": [
    "pred = 5\n",
    "df['Prediction'] = df['close'].shift(-pred) #adding the pred value to the dataframe\n",
    "df.tail(10)"
   ]
  },
  {
   "cell_type": "code",
   "execution_count": 7,
   "id": "187a0d44",
   "metadata": {},
   "outputs": [
    {
     "name": "stdout",
     "output_type": "stream",
     "text": [
      "[[  421.43]\n",
      " [  424.74]\n",
      " [  423.47]\n",
      " ...\n",
      " [42721.91]\n",
      " [43201.79]\n",
      " [42187.51]]\n"
     ]
    }
   ],
   "source": [
    "x = np.array(df.drop(['Prediction'],1)) #Drop the prediction column and convert the dataframe into array \n",
    "x = x[:len(df)-pred] #Removing last 'n' rows\n",
    "print(x)"
   ]
  },
  {
   "cell_type": "code",
   "execution_count": 8,
   "id": "ac6cabb2",
   "metadata": {},
   "outputs": [
    {
     "name": "stdout",
     "output_type": "stream",
     "text": [
      "[  430.05   426.26   427.69 ... 43829.34 48164.35 47799.23]\n"
     ]
    }
   ],
   "source": [
    "y = np.array(df['Prediction'])\n",
    "y = y[:-pred] #Removing last 'n' rows\n",
    "print(y)"
   ]
  },
  {
   "cell_type": "code",
   "execution_count": 9,
   "id": "f5ae47d4",
   "metadata": {},
   "outputs": [],
   "source": [
    "                         \n",
    "def train_test_split(df, test_size=0.2):\n",
    "    split_row = len(df) - int(test_size * len(df))\n",
    "    train_data = df.iloc[:split_row]\n",
    "    test_data = df.iloc[split_row:]\n",
    "    return train_data, test_data\n",
    "\n"
   ]
  },
  {
   "cell_type": "code",
   "execution_count": 10,
   "id": "d855e8f5",
   "metadata": {},
   "outputs": [],
   "source": [
    "x = pd.DataFrame(x)\n",
    "x_train, x_test = train_test_split(x, test_size=0.2)\n"
   ]
  },
  {
   "cell_type": "code",
   "execution_count": 11,
   "id": "9ad72c76",
   "metadata": {},
   "outputs": [],
   "source": [
    "y = pd.DataFrame(y)\n",
    "y_train, y_test = train_test_split(y, test_size=0.2)"
   ]
  },
  {
   "cell_type": "code",
   "execution_count": 43,
   "id": "ba35d68f",
   "metadata": {},
   "outputs": [
    {
     "name": "stdout",
     "output_type": "stream",
     "text": [
      "Fitting 3 folds for each of 5 candidates, totalling 15 fits\n"
     ]
    },
    {
     "name": "stderr",
     "output_type": "stream",
     "text": [
      "C:\\ProgramData\\Anaconda3\\lib\\site-packages\\sklearn\\utils\\validation.py:63: DataConversionWarning: A column-vector y was passed when a 1d array was expected. Please change the shape of y to (n_samples, ), for example using ravel().\n",
      "  return f(*args, **kwargs)\n"
     ]
    },
    {
     "name": "stdout",
     "output_type": "stream",
     "text": [
      "Best: -254.228094 using {'C': 10}\n"
     ]
    }
   ],
   "source": [
    "# setup regressor\n",
    "svr_lin_1 = SVR(kernel='linear') \n",
    "# performance a grid search\n",
    "grid = GridSearchCV(\n",
    "    svr_lin_1,   \n",
    "    {\n",
    "        'C': [0.1,1, 10, 100, 1000]\n",
    "    },   \n",
    "    cv = 3,   \n",
    "    verbose = 1,\n",
    "    n_jobs = -1,  \n",
    "    scoring = 'neg_median_absolute_error')\n",
    "grid.fit(x_train,y_train)\n",
    "print('Best: %f using %s'%(grid.best_score_, grid.best_params_))"
   ]
  },
  {
   "cell_type": "code",
   "execution_count": 12,
   "id": "4e133264",
   "metadata": {},
   "outputs": [
    {
     "name": "stderr",
     "output_type": "stream",
     "text": [
      "C:\\ProgramData\\Anaconda3\\lib\\site-packages\\sklearn\\utils\\validation.py:63: DataConversionWarning: A column-vector y was passed when a 1d array was expected. Please change the shape of y to (n_samples, ), for example using ravel().\n",
      "  return f(*args, **kwargs)\n"
     ]
    },
    {
     "name": "stdout",
     "output_type": "stream",
     "text": [
      "3638.8300709685795\n"
     ]
    }
   ],
   "source": [
    "from math import sqrt\n",
    "\n",
    "svr_lin = SVR(kernel = 'linear',C=10)\n",
    "svr_lin.fit(x_train, y_train)\n",
    "y_pre = svr_lin.predict(x_test)\n",
    "\n",
    "'''print('R-squared  score(train) : {:.3f}'\n",
    "     .format(svr_rbf.score(xtrain,ytrain)))\n",
    "print('R-squared  score(train) : {:.3f}'\n",
    "     .format(svr_rbf.score(xtest,ytest)))'''\n",
    "#print('MSE for train data set :', metrics.mean_squared_error(ytrain, svr_rbf.predict(xtrain)))\n",
    "#print('MSE for test data set :', metrics.mean_squared_error(ytest, svr_rbf.predict(xtest)))\n",
    "\n",
    "rms = sqrt(mean_squared_error(y_test, y_pre))\n",
    "print(rms)"
   ]
  },
  {
   "cell_type": "code",
   "execution_count": 13,
   "id": "7e55cee3",
   "metadata": {},
   "outputs": [
    {
     "name": "stdout",
     "output_type": "stream",
     "text": [
      "551974.596344655\n"
     ]
    },
    {
     "name": "stderr",
     "output_type": "stream",
     "text": [
      "C:\\ProgramData\\Anaconda3\\lib\\site-packages\\sklearn\\utils\\validation.py:63: DataConversionWarning: A column-vector y was passed when a 1d array was expected. Please change the shape of y to (n_samples, ), for example using ravel().\n",
      "  return f(*args, **kwargs)\n"
     ]
    }
   ],
   "source": [
    "from math import sqrt\n",
    "\n",
    "svr_pol = SVR(kernel = 'poly')\n",
    "svr_pol.fit(x_train, y_train)\n",
    "y_pre1 = svr_pol.predict(x_test)\n",
    "\n",
    "\n",
    "\n",
    "rms1 = sqrt(mean_squared_error(y_test, y_pre1))\n",
    "print(rms1)"
   ]
  },
  {
   "cell_type": "code",
   "execution_count": 14,
   "id": "af29b9df",
   "metadata": {},
   "outputs": [
    {
     "name": "stdout",
     "output_type": "stream",
     "text": [
      "33253.447443401434\n"
     ]
    },
    {
     "name": "stderr",
     "output_type": "stream",
     "text": [
      "C:\\ProgramData\\Anaconda3\\lib\\site-packages\\sklearn\\utils\\validation.py:63: DataConversionWarning: A column-vector y was passed when a 1d array was expected. Please change the shape of y to (n_samples, ), for example using ravel().\n",
      "  return f(*args, **kwargs)\n"
     ]
    }
   ],
   "source": [
    "from math import sqrt\n",
    "\n",
    "svr_rbf = SVR(kernel = 'rbf')\n",
    "svr_rbf.fit(x_train, y_train)\n",
    "y_pre2 = svr_rbf.predict(x_test)\n",
    "\n",
    "'''print('R-squared  score(train) : {:.3f}'\n",
    "     .format(svr_rbf.score(xtrain,ytrain)))\n",
    "print('R-squared  score(train) : {:.3f}'\n",
    "     .format(svr_rbf.score(xtest,ytest)))'''\n",
    "#print('MSE for train data set :', metrics.mean_squared_error(ytrain, svr_rbf.predict(xtrain)))\n",
    "#print('MSE for test data set :', metrics.mean_squared_error(ytest, svr_rbf.predict(xtest)))\n",
    "\n",
    "rms2 = sqrt(mean_squared_error(y_test, y_pre2))\n",
    "print(rms2)"
   ]
  },
  {
   "cell_type": "code",
   "execution_count": 16,
   "id": "7cd0f01e",
   "metadata": {},
   "outputs": [
    {
     "data": {
      "image/png": "[encoded data removed]",
      "text/plain": [
       "<Figure size 432x288 with 1 Axes>"
      ]
     },
     "metadata": {
      "needs_background": "light"
     },
     "output_type": "display_data"
    }
   ],
   "source": [
    "y_test1 = np.array(y_test)\n",
    "y_pre1 = np.array(y_pre)\n",
    "plt.plot(y_test1,color='blue',label='actul')\n",
    "plt.plot(y_pre1,color='red',label='predict')\n",
    "plt.legend(loc='best')\n",
    "plt.title('RMSE:%.4f' % rms)\n",
    "plt.show()"
   ]
  },
  {
   "cell_type": "code",
   "execution_count": 15,
   "id": "966e509c",
   "metadata": {},
   "outputs": [
    {
     "data": {
      "text/plain": [
       "<matplotlib.legend.Legend at 0x1237ebc2a30>"
      ]
     },
     "execution_count": 15,
     "metadata": {},
     "output_type": "execute_result"
    },
    {
     "data": {
      "image/png": "[encoded data removed]",
      "text/plain": [
       "<Figure size 432x288 with 1 Axes>"
      ]
     },
     "metadata": {
      "needs_background": "light"
     },
     "output_type": "display_data"
    }
   ],
   "source": [
    "plt.plot(x_train,color='blue',label='train')\n",
    "plt.plot(x_test,color='red',label='test')\n",
    "plt.legend(loc='best')"
   ]
  },
  {
   "cell_type": "code",
   "execution_count": null,
   "id": "0b9ba385",
   "metadata": {},
   "outputs": [],
   "source": []
  }
 ],
 "metadata": {
  "kernelspec": {
   "display_name": "Python 3",
   "language": "python",
   "name": "python3"
  },
  "language_info": {
   "codemirror_mode": {
    "name": "ipython",
    "version": 3
   },
   "file_extension": ".py",
   "mimetype": "text/x-python",
   "name": "python",
   "nbconvert_exporter": "python",
   "pygments_lexer": "ipython3",
   "version": "3.8.8"
  }
 },
 "nbformat": 4,
 "nbformat_minor": 5
}
